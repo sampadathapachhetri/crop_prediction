{
 "cells": [
  {
   "cell_type": "markdown",
   "id": "7befeeb8-37be-423b-9ae7-9ebd99018c7c",
   "metadata": {},
   "source": [
    "# Predictive Modeling for Agriculture\n",
    "Predicting crop types using soil nutrient composition (N, P, K, pH)."
   ]
  },
  {
   "cell_type": "markdown",
   "id": "ad10c263-32bc-48ae-913d-014039446d7e",
   "metadata": {},
   "source": [
    " ## 1. Importing the necessary libraries"
   ]
  },
  {
   "cell_type": "code",
   "execution_count": 1,
   "id": "c58ec3dd-6abf-4b6a-9605-af4519109ebe",
   "metadata": {},
   "outputs": [],
   "source": [
    "import pandas as pd\n",
    "from sklearn.linear_model import LogisticRegression\n",
    "from sklearn.model_selection import train_test_split\n",
    "from sklearn import metrics"
   ]
  },
  {
   "cell_type": "markdown",
   "id": "1cac5457-2c5c-466b-ae35-d51b8c0d2d3c",
   "metadata": {},
   "source": [
    "## 2. Loading the dataset"
   ]
  },
  {
   "cell_type": "code",
   "execution_count": 2,
   "id": "0353b68a-441f-4715-819a-3cef2e9b19c5",
   "metadata": {},
   "outputs": [],
   "source": [
    "crops = pd.read_csv(\"soil_measures.csv\")\n"
   ]
  },
  {
   "cell_type": "code",
   "execution_count": 3,
   "id": "7109c1aa-0db8-4d6d-9139-72d483e35a87",
   "metadata": {},
   "outputs": [
    {
     "name": "stdout",
     "output_type": "stream",
     "text": [
      "    N   P   K        ph  crop\n",
      "0  90  42  43  6.502985  rice\n",
      "1  85  58  41  7.038096  rice\n",
      "2  60  55  44  7.840207  rice\n",
      "3  74  35  40  6.980401  rice\n",
      "4  78  42  42  7.628473  rice\n"
     ]
    }
   ],
   "source": [
    "print(crops.head())"
   ]
  },
  {
   "cell_type": "code",
   "execution_count": 4,
   "id": "f351b405-1f0a-4f54-b42c-00181db9b0c3",
   "metadata": {},
   "outputs": [
    {
     "name": "stdout",
     "output_type": "stream",
     "text": [
      "                 N            P            K           ph\n",
      "count  2200.000000  2200.000000  2200.000000  2200.000000\n",
      "mean     50.551818    53.362727    48.149091     6.469480\n",
      "std      36.917334    32.985883    50.647931     0.773938\n",
      "min       0.000000     5.000000     5.000000     3.504752\n",
      "25%      21.000000    28.000000    20.000000     5.971693\n",
      "50%      37.000000    51.000000    32.000000     6.425045\n",
      "75%      84.250000    68.000000    49.000000     6.923643\n",
      "max     140.000000   145.000000   205.000000     9.935091\n"
     ]
    }
   ],
   "source": [
    "print(crops.describe())"
   ]
  },
  {
   "cell_type": "code",
   "execution_count": 5,
   "id": "ed8e11c2-f5cd-41bc-bf6b-9b1903007428",
   "metadata": {},
   "outputs": [
    {
     "name": "stdout",
     "output_type": "stream",
     "text": [
      "Target distribution of crop\n",
      "crop\n",
      "rice           100\n",
      "maize          100\n",
      "chickpea       100\n",
      "kidneybeans    100\n",
      "pigeonpeas     100\n",
      "mothbeans      100\n",
      "mungbean       100\n",
      "blackgram      100\n",
      "lentil         100\n",
      "pomegranate    100\n",
      "banana         100\n",
      "mango          100\n",
      "grapes         100\n",
      "watermelon     100\n",
      "muskmelon      100\n",
      "apple          100\n",
      "orange         100\n",
      "papaya         100\n",
      "coconut        100\n",
      "cotton         100\n",
      "jute           100\n",
      "coffee         100\n",
      "Name: count, dtype: int64\n"
     ]
    }
   ],
   "source": [
    "print(\"Target distribution of crop\")\n",
    "print(crops['crop'].value_counts())"
   ]
  },
  {
   "cell_type": "markdown",
   "id": "706ce5be-0568-4201-88e8-86470fc7f451",
   "metadata": {},
   "source": [
    "## 3. Exploring missing values"
   ]
  },
  {
   "cell_type": "code",
   "execution_count": 6,
   "id": "6c04604e-40c3-4f18-8327-eaa0668d19cb",
   "metadata": {},
   "outputs": [
    {
     "name": "stdout",
     "output_type": "stream",
     "text": [
      "N       0\n",
      "P       0\n",
      "K       0\n",
      "ph      0\n",
      "crop    0\n",
      "dtype: int64\n"
     ]
    }
   ],
   "source": [
    "print(crops.isnull().sum())"
   ]
  },
  {
   "cell_type": "markdown",
   "id": "875dd75a-f4d3-498f-8b8b-f631c7a42feb",
   "metadata": {},
   "source": [
    "## 4. Define the features (X) and the target (Y)"
   ]
  },
  {
   "cell_type": "code",
   "execution_count": 7,
   "id": "58015433-8253-46b7-86b7-400c3f996730",
   "metadata": {},
   "outputs": [],
   "source": [
    "X = crops.drop(columns=\"crop\")\n",
    "y = crops[\"crop\"]"
   ]
  },
  {
   "cell_type": "markdown",
   "id": "a9979632-7e08-4018-9f1d-e0593edd2c24",
   "metadata": {},
   "source": [
    "## 5. Split into training and test sets."
   ]
  },
  {
   "cell_type": "code",
   "execution_count": 8,
   "id": "9bfa1dbd-38eb-4d94-a0ad-7e8ef0170fbc",
   "metadata": {},
   "outputs": [],
   "source": [
    "X_train, X_test, y_train, y_test = train_test_split(\n",
    "    X,\n",
    "    y,\n",
    "    test_size=0.2,\n",
    "    random_state=42\n",
    ")"
   ]
  },
  {
   "cell_type": "markdown",
   "id": "2e9dfccf-e219-441c-8d29-ec38c1e176b8",
   "metadata": {},
   "source": [
    "## 6. Create dictionary for results"
   ]
  },
  {
   "cell_type": "code",
   "execution_count": 9,
   "id": "392334f5-ef5b-4110-aa25-e7892469c37e",
   "metadata": {},
   "outputs": [],
   "source": [
    "feature_performance = {}"
   ]
  },
  {
   "cell_type": "markdown",
   "id": "353c00ae-5030-4811-ad2f-cfe2155bb207",
   "metadata": {},
   "source": [
    "## 7. Train a logistic regression for each feature"
   ]
  },
  {
   "cell_type": "code",
   "execution_count": 10,
   "id": "69f6d9a5-7df6-4df6-b86a-2afd3ee7b1f1",
   "metadata": {},
   "outputs": [],
   "source": [
    "import warnings\n",
    "warnings.filterwarnings(\"ignore\")"
   ]
  },
  {
   "cell_type": "code",
   "execution_count": 11,
   "id": "471c58be-22a2-4e61-b6d2-20b66d760310",
   "metadata": {},
   "outputs": [
    {
     "name": "stdout",
     "output_type": "stream",
     "text": [
      "F1-score for N: 0.09675206283523911\n",
      "F1-score for P: 0.11760989823570633\n",
      "F1-score for K: 0.19764435585972828\n",
      "F1-score for ph: 0.0458225366614312\n"
     ]
    }
   ],
   "source": [
    "for feature in [\"N\", \"P\", \"K\", \"ph\"]:\n",
    "    log_reg = LogisticRegression(max_iter=1000, multi_class=\"multinomial\")\n",
    "    log_reg.fit(X_train[[feature]], y_train)\n",
    "    y_pred = log_reg.predict(X_test[[feature]])\n",
    "\n",
    "    #Evaluating the best feature with f1-score\n",
    "    f1 = metrics.f1_score(y_test, y_pred, average=\"weighted\")\n",
    "    feature_performance[feature] = f1\n",
    "    \n",
    "    print(f\"F1-score for {feature}: {f1}\")"
   ]
  },
  {
   "cell_type": "markdown",
   "id": "42fefc6e-3a64-40a6-b525-3def6effe9ca",
   "metadata": {},
   "source": [
    "## 8. Save the best feature"
   ]
  },
  {
   "cell_type": "code",
   "execution_count": 12,
   "id": "770d1cfc-4b4f-436e-abab-a901ae47b2f0",
   "metadata": {},
   "outputs": [
    {
     "data": {
      "text/plain": [
       "{'K': np.float64(0.19764435585972828)}"
      ]
     },
     "execution_count": 12,
     "metadata": {},
     "output_type": "execute_result"
    }
   ],
   "source": [
    "best_predictive_feature = {\"K\": feature_performance[\"K\"]}\n",
    "best_predictive_feature"
   ]
  },
  {
   "cell_type": "markdown",
   "id": "a4ef94c9-5e78-4f9c-b93b-b317e7c4fd88",
   "metadata": {},
   "source": [
    "## Conclusion\n",
    "Among the soil features tested, **K (Potassium)** had the highest predictive power for crop classification."
   ]
  }
 ],
 "metadata": {
  "kernelspec": {
   "display_name": "Python 3 (ipykernel)",
   "language": "python",
   "name": "python3"
  },
  "language_info": {
   "codemirror_mode": {
    "name": "ipython",
    "version": 3
   },
   "file_extension": ".py",
   "mimetype": "text/x-python",
   "name": "python",
   "nbconvert_exporter": "python",
   "pygments_lexer": "ipython3",
   "version": "3.12.6"
  }
 },
 "nbformat": 4,
 "nbformat_minor": 5
}
